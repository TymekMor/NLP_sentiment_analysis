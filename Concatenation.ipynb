{
 "cells": [
  {
   "cell_type": "markdown",
   "metadata": {},
   "source": [
    "This file is used to concatenate all calculated data into one file, because data is calculated in chunks and saved in separate files.\n",
    "Data is sorted chronologically indexes are reset and file is written to parquet format."
   ]
  },
  {
   "cell_type": "code",
   "execution_count": 1,
   "metadata": {},
   "outputs": [],
   "source": [
    "import pandas as pd\n",
    "import numpy as np\n",
    "import matplotlib.pyplot as plt\n",
    "import seaborn as sns\n",
    "import os\n"
   ]
  },
  {
   "cell_type": "code",
   "execution_count": 2,
   "metadata": {},
   "outputs": [
    {
     "name": "stdout",
     "output_type": "stream",
     "text": [
      "Number of files:  2\n",
      "Files:  ['processed_data(textblob)_noneutral_19-08-22to14-06-23.parquet', 'processed_data(textblob)_noneutral_24-02-22to19-08-22.parquet']\n"
     ]
    }
   ],
   "source": [
    "list_of_files = []\n",
    "directory = \"./TB_processed_data\"\n",
    "#only match files that start with processed and end with .parquet\n",
    "for filename in os.listdir(directory):\n",
    "    if filename.startswith(\"processed\") and filename.endswith(\".parquet\"):\n",
    "        list_of_files.append(filename)\n",
    "\n",
    "\n",
    "n = len(list_of_files)\n",
    "print(\"Number of files: \", n)\n",
    "print(\"Files: \", list_of_files)"
   ]
  },
  {
   "cell_type": "code",
   "execution_count": 3,
   "metadata": {},
   "outputs": [],
   "source": [
    "#load all the data and concatenate them into one dataframe\n",
    "df = pd.DataFrame()\n",
    "for i in range(n):\n",
    "    df = pd.concat([df, pd.read_parquet(directory + \"/\" + list_of_files[i])], ignore_index=True)\n"
   ]
  },
  {
   "cell_type": "code",
   "execution_count": 4,
   "metadata": {},
   "outputs": [
    {
     "data": {
      "text/html": [
       "<div>\n",
       "<style scoped>\n",
       "    .dataframe tbody tr th:only-of-type {\n",
       "        vertical-align: middle;\n",
       "    }\n",
       "\n",
       "    .dataframe tbody tr th {\n",
       "        vertical-align: top;\n",
       "    }\n",
       "\n",
       "    .dataframe thead th {\n",
       "        text-align: right;\n",
       "    }\n",
       "</style>\n",
       "<table border=\"1\" class=\"dataframe\">\n",
       "  <thead>\n",
       "    <tr style=\"text-align: right;\">\n",
       "      <th></th>\n",
       "      <th>polarity</th>\n",
       "      <th>subjectivity</th>\n",
       "      <th>extractedts</th>\n",
       "    </tr>\n",
       "  </thead>\n",
       "  <tbody>\n",
       "    <tr>\n",
       "      <th>0</th>\n",
       "      <td>-0.875000</td>\n",
       "      <td>1.000000</td>\n",
       "      <td>2022-02-24 06:51:09.665136</td>\n",
       "    </tr>\n",
       "    <tr>\n",
       "      <th>1</th>\n",
       "      <td>-0.037727</td>\n",
       "      <td>0.180909</td>\n",
       "      <td>2022-02-24 06:51:09.732106</td>\n",
       "    </tr>\n",
       "    <tr>\n",
       "      <th>2</th>\n",
       "      <td>0.100000</td>\n",
       "      <td>0.400000</td>\n",
       "      <td>2022-02-24 06:51:09.746099</td>\n",
       "    </tr>\n",
       "    <tr>\n",
       "      <th>3</th>\n",
       "      <td>-0.155556</td>\n",
       "      <td>0.288889</td>\n",
       "      <td>2022-02-24 06:51:09.816932</td>\n",
       "    </tr>\n",
       "    <tr>\n",
       "      <th>4</th>\n",
       "      <td>0.068182</td>\n",
       "      <td>0.227273</td>\n",
       "      <td>2022-02-24 06:51:09.836479</td>\n",
       "    </tr>\n",
       "    <tr>\n",
       "      <th>...</th>\n",
       "      <td>...</td>\n",
       "      <td>...</td>\n",
       "      <td>...</td>\n",
       "    </tr>\n",
       "    <tr>\n",
       "      <th>13130547</th>\n",
       "      <td>0.226667</td>\n",
       "      <td>0.285000</td>\n",
       "      <td>2023-06-14 15:28:05.139321</td>\n",
       "    </tr>\n",
       "    <tr>\n",
       "      <th>13130548</th>\n",
       "      <td>-0.261905</td>\n",
       "      <td>0.500000</td>\n",
       "      <td>2023-06-14 15:28:05.636928</td>\n",
       "    </tr>\n",
       "    <tr>\n",
       "      <th>13130549</th>\n",
       "      <td>0.015909</td>\n",
       "      <td>0.457792</td>\n",
       "      <td>2023-06-14 15:28:05.751305</td>\n",
       "    </tr>\n",
       "    <tr>\n",
       "      <th>13130550</th>\n",
       "      <td>-0.050000</td>\n",
       "      <td>0.160000</td>\n",
       "      <td>2023-06-14 15:28:06.037166</td>\n",
       "    </tr>\n",
       "    <tr>\n",
       "      <th>13130551</th>\n",
       "      <td>-0.500000</td>\n",
       "      <td>0.533333</td>\n",
       "      <td>2023-06-14 15:28:06.262686</td>\n",
       "    </tr>\n",
       "  </tbody>\n",
       "</table>\n",
       "<p>13130552 rows × 3 columns</p>\n",
       "</div>"
      ],
      "text/plain": [
       "          polarity  subjectivity                extractedts\n",
       "0        -0.875000      1.000000 2022-02-24 06:51:09.665136\n",
       "1        -0.037727      0.180909 2022-02-24 06:51:09.732106\n",
       "2         0.100000      0.400000 2022-02-24 06:51:09.746099\n",
       "3        -0.155556      0.288889 2022-02-24 06:51:09.816932\n",
       "4         0.068182      0.227273 2022-02-24 06:51:09.836479\n",
       "...            ...           ...                        ...\n",
       "13130547  0.226667      0.285000 2023-06-14 15:28:05.139321\n",
       "13130548 -0.261905      0.500000 2023-06-14 15:28:05.636928\n",
       "13130549  0.015909      0.457792 2023-06-14 15:28:05.751305\n",
       "13130550 -0.050000      0.160000 2023-06-14 15:28:06.037166\n",
       "13130551 -0.500000      0.533333 2023-06-14 15:28:06.262686\n",
       "\n",
       "[13130552 rows x 3 columns]"
      ]
     },
     "execution_count": 4,
     "metadata": {},
     "output_type": "execute_result"
    }
   ],
   "source": [
    "#extractedts to datetime\n",
    "df['extractedts'] = pd.to_datetime(df['extractedts'])\n",
    "df.sort_values(by=['extractedts'], inplace=True)\n",
    "df.reset_index(drop=True, inplace=True)\n",
    "df"
   ]
  },
  {
   "cell_type": "code",
   "execution_count": 5,
   "metadata": {},
   "outputs": [
    {
     "name": "stdout",
     "output_type": "stream",
     "text": [
      "First date:  2022-02-24 06:51:09.665136\n",
      "Last date:  2023-06-14 15:28:06.262686\n",
      "This covers a period of  475 days 08:36:56.597550\n"
     ]
    }
   ],
   "source": [
    "#print first and last date\n",
    "print(\"First date: \", df['extractedts'].min())\n",
    "print(\"Last date: \", df['extractedts'].max())\n",
    "print(\"This covers a period of \", df['extractedts'].max() - df['extractedts'].min())"
   ]
  },
  {
   "cell_type": "code",
   "execution_count": 6,
   "metadata": {},
   "outputs": [],
   "source": [
    "#save it\n",
    "filename = \"processed_data(textblob)_noneutral_alldata.parquet\"\n",
    "path_filename = directory + \"/\" + filename\n",
    "df.to_parquet(path_filename)"
   ]
  }
 ],
 "metadata": {
  "kernelspec": {
   "display_name": "Python 3",
   "language": "python",
   "name": "python3"
  },
  "language_info": {
   "codemirror_mode": {
    "name": "ipython",
    "version": 3
   },
   "file_extension": ".py",
   "mimetype": "text/x-python",
   "name": "python",
   "nbconvert_exporter": "python",
   "pygments_lexer": "ipython3",
   "version": "3.11.6"
  }
 },
 "nbformat": 4,
 "nbformat_minor": 2
}
