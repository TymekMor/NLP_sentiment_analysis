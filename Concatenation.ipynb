{
 "cells": [
  {
   "cell_type": "markdown",
   "metadata": {},
   "source": [
    "This file is used to concatenate all calculated data into one file, because data is calculated in chunks and saved in separate files.\n",
    "Data is sorted chronologically indexes are reset and file is written to parquet format."
   ]
  },
  {
   "cell_type": "code",
   "execution_count": 1,
   "metadata": {},
   "outputs": [],
   "source": [
    "import pandas as pd\n",
    "import numpy as np\n",
    "import matplotlib.pyplot as plt\n",
    "import seaborn as sns\n",
    "import os\n"
   ]
  },
  {
   "cell_type": "code",
   "execution_count": 8,
   "metadata": {},
   "outputs": [
    {
     "name": "stdout",
     "output_type": "stream",
     "text": [
      "Number of files:  3\n",
      "Files:  ['biggerdata_processed_150_iteration.parquet', 'biggerdata_processed_160_iteration.parquet', 'biggerdata_processed_170_iteration.parquet']\n"
     ]
    }
   ],
   "source": [
    "list_of_files = []\n",
    "directory = \"./TB_processed_data\"\n",
    "#only match files that start with biggerdata and end with .parquet\n",
    "for filename in os.listdir(directory):\n",
    "    if filename.startswith(\"biggerdata\") and filename.endswith(\".parquet\"):\n",
    "        list_of_files.append(filename)\n",
    "\n",
    "\n",
    "n = len(list_of_files)\n",
    "print(\"Number of files: \", n)\n",
    "print(\"Files: \", list_of_files)"
   ]
  },
  {
   "cell_type": "code",
   "execution_count": 9,
   "metadata": {},
   "outputs": [],
   "source": [
    "#load all the data and concatenate them into one dataframe\n",
    "df = pd.DataFrame()\n",
    "for i in range(n):\n",
    "    df = pd.concat([df, pd.read_parquet(directory + \"/\" + list_of_files[i])], ignore_index=True)\n"
   ]
  },
  {
   "cell_type": "code",
   "execution_count": 10,
   "metadata": {},
   "outputs": [
    {
     "data": {
      "text/html": [
       "<div>\n",
       "<style scoped>\n",
       "    .dataframe tbody tr th:only-of-type {\n",
       "        vertical-align: middle;\n",
       "    }\n",
       "\n",
       "    .dataframe tbody tr th {\n",
       "        vertical-align: top;\n",
       "    }\n",
       "\n",
       "    .dataframe thead th {\n",
       "        text-align: right;\n",
       "    }\n",
       "</style>\n",
       "<table border=\"1\" class=\"dataframe\">\n",
       "  <thead>\n",
       "    <tr style=\"text-align: right;\">\n",
       "      <th></th>\n",
       "      <th>polarity</th>\n",
       "      <th>subjectivity</th>\n",
       "      <th>extractedts</th>\n",
       "    </tr>\n",
       "  </thead>\n",
       "  <tbody>\n",
       "    <tr>\n",
       "      <th>618</th>\n",
       "      <td>-0.100000</td>\n",
       "      <td>0.400000</td>\n",
       "      <td>2022-03-01 00:02:23.285849</td>\n",
       "    </tr>\n",
       "    <tr>\n",
       "      <th>617</th>\n",
       "      <td>0.100000</td>\n",
       "      <td>0.294444</td>\n",
       "      <td>2022-03-01 00:02:23.292643</td>\n",
       "    </tr>\n",
       "    <tr>\n",
       "      <th>616</th>\n",
       "      <td>0.300000</td>\n",
       "      <td>0.500000</td>\n",
       "      <td>2022-03-01 00:02:23.306651</td>\n",
       "    </tr>\n",
       "    <tr>\n",
       "      <th>615</th>\n",
       "      <td>0.500000</td>\n",
       "      <td>0.500000</td>\n",
       "      <td>2022-03-01 00:02:23.321486</td>\n",
       "    </tr>\n",
       "    <tr>\n",
       "      <th>614</th>\n",
       "      <td>0.100000</td>\n",
       "      <td>0.650000</td>\n",
       "      <td>2022-03-01 00:02:23.340397</td>\n",
       "    </tr>\n",
       "    <tr>\n",
       "      <th>...</th>\n",
       "      <td>...</td>\n",
       "      <td>...</td>\n",
       "      <td>...</td>\n",
       "    </tr>\n",
       "    <tr>\n",
       "      <th>6025008</th>\n",
       "      <td>0.250000</td>\n",
       "      <td>0.250000</td>\n",
       "      <td>2022-03-31 23:44:25.044573</td>\n",
       "    </tr>\n",
       "    <tr>\n",
       "      <th>6025007</th>\n",
       "      <td>-0.200000</td>\n",
       "      <td>0.275000</td>\n",
       "      <td>2022-03-31 23:44:25.070232</td>\n",
       "    </tr>\n",
       "    <tr>\n",
       "      <th>6025006</th>\n",
       "      <td>-0.250000</td>\n",
       "      <td>0.250000</td>\n",
       "      <td>2022-03-31 23:44:25.087236</td>\n",
       "    </tr>\n",
       "    <tr>\n",
       "      <th>6025005</th>\n",
       "      <td>-0.133333</td>\n",
       "      <td>0.183333</td>\n",
       "      <td>2022-03-31 23:44:25.095659</td>\n",
       "    </tr>\n",
       "    <tr>\n",
       "      <th>6025004</th>\n",
       "      <td>0.100000</td>\n",
       "      <td>0.400000</td>\n",
       "      <td>2022-03-31 23:44:25.130394</td>\n",
       "    </tr>\n",
       "  </tbody>\n",
       "</table>\n",
       "<p>6026154 rows × 3 columns</p>\n",
       "</div>"
      ],
      "text/plain": [
       "         polarity  subjectivity                extractedts\n",
       "618     -0.100000      0.400000 2022-03-01 00:02:23.285849\n",
       "617      0.100000      0.294444 2022-03-01 00:02:23.292643\n",
       "616      0.300000      0.500000 2022-03-01 00:02:23.306651\n",
       "615      0.500000      0.500000 2022-03-01 00:02:23.321486\n",
       "614      0.100000      0.650000 2022-03-01 00:02:23.340397\n",
       "...           ...           ...                        ...\n",
       "6025008  0.250000      0.250000 2022-03-31 23:44:25.044573\n",
       "6025007 -0.200000      0.275000 2022-03-31 23:44:25.070232\n",
       "6025006 -0.250000      0.250000 2022-03-31 23:44:25.087236\n",
       "6025005 -0.133333      0.183333 2022-03-31 23:44:25.095659\n",
       "6025004  0.100000      0.400000 2022-03-31 23:44:25.130394\n",
       "\n",
       "[6026154 rows x 3 columns]"
      ]
     },
     "execution_count": 10,
     "metadata": {},
     "output_type": "execute_result"
    }
   ],
   "source": [
    "#extractedts to datetime\n",
    "df['extractedts'] = pd.to_datetime(df['extractedts'])\n",
    "df.sort_values(by=['extractedts'], inplace=True)\n",
    "df.reset_index(drop=True, inplace=True)\n",
    "df"
   ]
  },
  {
   "cell_type": "code",
   "execution_count": 11,
   "metadata": {},
   "outputs": [
    {
     "name": "stdout",
     "output_type": "stream",
     "text": [
      "First date:  2022-03-01 00:02:23.285849\n",
      "Last date:  2022-03-31 23:44:25.130394\n",
      "This covers a period of  30 days 23:42:01.844545\n"
     ]
    }
   ],
   "source": [
    "#print first and last date\n",
    "print(\"First date: \", df['extractedts'].min())\n",
    "print(\"Last date: \", df['extractedts'].max())\n",
    "print(\"This covers a period of \", df['extractedts'].max() - df['extractedts'].min())"
   ]
  },
  {
   "cell_type": "code",
   "execution_count": 13,
   "metadata": {},
   "outputs": [],
   "source": [
    "#save it\n",
    "filename = \"processed_data_without_neutral_values_last30sets.parquet\"\n",
    "path_filename = directory + \"/\" + filename\n",
    "df.to_parquet(path_filename)"
   ]
  }
 ],
 "metadata": {
  "kernelspec": {
   "display_name": "Python 3",
   "language": "python",
   "name": "python3"
  },
  "language_info": {
   "codemirror_mode": {
    "name": "ipython",
    "version": 3
   },
   "file_extension": ".py",
   "mimetype": "text/x-python",
   "name": "python",
   "nbconvert_exporter": "python",
   "pygments_lexer": "ipython3",
   "version": "3.11.6"
  }
 },
 "nbformat": 4,
 "nbformat_minor": 2
}
