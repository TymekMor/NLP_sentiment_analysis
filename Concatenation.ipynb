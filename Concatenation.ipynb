{
 "cells": [
  {
   "cell_type": "code",
   "execution_count": 1,
   "metadata": {},
   "outputs": [],
   "source": [
    "import pandas as pd\n",
    "import numpy as np\n",
    "import matplotlib.pyplot as plt\n",
    "import seaborn as sns\n",
    "import os\n"
   ]
  },
  {
   "cell_type": "code",
   "execution_count": 2,
   "metadata": {},
   "outputs": [
    {
     "name": "stdout",
     "output_type": "stream",
     "text": [
      "Number of files:  9\n",
      "Files:  ['biggerdata_processed_10_iteration.parquet', 'biggerdata_processed_20_iteration.parquet', 'biggerdata_processed_30_iteration.parquet', 'biggerdata_processed_40_iteration.parquet', 'biggerdata_processed_50_iteration.parquet', 'biggerdata_processed_60_iteration.parquet', 'biggerdata_processed_70_iteration.parquet', 'biggerdata_processed_80_iteration.parquet', 'biggerdata_processed_90_iteration.parquet']\n"
     ]
    }
   ],
   "source": [
    "list_of_files = []\n",
    "directory = \"./TB_processed_data\"\n",
    "#only match files that start with biggerdata and end with .parquet\n",
    "for filename in os.listdir(directory):\n",
    "    if filename.startswith(\"biggerdata\") and filename.endswith(\".parquet\"):\n",
    "        list_of_files.append(filename)\n",
    "\n",
    "\n",
    "n = len(list_of_files)\n",
    "print(\"Number of files: \", n)\n",
    "print(\"Files: \", list_of_files)"
   ]
  },
  {
   "cell_type": "code",
   "execution_count": 3,
   "metadata": {},
   "outputs": [],
   "source": [
    "#load all the data and concatenate them into one dataframe\n",
    "df = pd.DataFrame()\n",
    "for i in range(n):\n",
    "    df = pd.concat([df, pd.read_parquet(directory + \"/\" + list_of_files[i])], ignore_index=True)\n"
   ]
  },
  {
   "cell_type": "code",
   "execution_count": 4,
   "metadata": {},
   "outputs": [
    {
     "data": {
      "text/html": [
       "<div>\n",
       "<style scoped>\n",
       "    .dataframe tbody tr th:only-of-type {\n",
       "        vertical-align: middle;\n",
       "    }\n",
       "\n",
       "    .dataframe tbody tr th {\n",
       "        vertical-align: top;\n",
       "    }\n",
       "\n",
       "    .dataframe thead th {\n",
       "        text-align: right;\n",
       "    }\n",
       "</style>\n",
       "<table border=\"1\" class=\"dataframe\">\n",
       "  <thead>\n",
       "    <tr style=\"text-align: right;\">\n",
       "      <th></th>\n",
       "      <th>polarity</th>\n",
       "      <th>subjectivity</th>\n",
       "      <th>extractedts</th>\n",
       "    </tr>\n",
       "  </thead>\n",
       "  <tbody>\n",
       "    <tr>\n",
       "      <th>0</th>\n",
       "      <td>0.166667</td>\n",
       "      <td>0.166667</td>\n",
       "      <td>2022-04-01 00:44:20.097867</td>\n",
       "    </tr>\n",
       "    <tr>\n",
       "      <th>1</th>\n",
       "      <td>0.800000</td>\n",
       "      <td>0.900000</td>\n",
       "      <td>2022-04-01 00:09:37.148770</td>\n",
       "    </tr>\n",
       "    <tr>\n",
       "      <th>2</th>\n",
       "      <td>0.069481</td>\n",
       "      <td>0.442316</td>\n",
       "      <td>2022-04-01 00:09:37.125654</td>\n",
       "    </tr>\n",
       "    <tr>\n",
       "      <th>3</th>\n",
       "      <td>-0.065000</td>\n",
       "      <td>0.185000</td>\n",
       "      <td>2022-04-01 00:31:39.674382</td>\n",
       "    </tr>\n",
       "    <tr>\n",
       "      <th>4</th>\n",
       "      <td>0.301894</td>\n",
       "      <td>0.355556</td>\n",
       "      <td>2022-04-01 00:09:37.101459</td>\n",
       "    </tr>\n",
       "    <tr>\n",
       "      <th>...</th>\n",
       "      <td>...</td>\n",
       "      <td>...</td>\n",
       "      <td>...</td>\n",
       "    </tr>\n",
       "    <tr>\n",
       "      <th>12313133</th>\n",
       "      <td>0.250000</td>\n",
       "      <td>0.250000</td>\n",
       "      <td>2022-07-04 00:59:54.684135</td>\n",
       "    </tr>\n",
       "    <tr>\n",
       "      <th>12313134</th>\n",
       "      <td>0.383333</td>\n",
       "      <td>0.583333</td>\n",
       "      <td>2022-07-04 01:33:57.282529</td>\n",
       "    </tr>\n",
       "    <tr>\n",
       "      <th>12313135</th>\n",
       "      <td>-0.083673</td>\n",
       "      <td>0.275510</td>\n",
       "      <td>2022-07-04 01:10:45.335862</td>\n",
       "    </tr>\n",
       "    <tr>\n",
       "      <th>12313136</th>\n",
       "      <td>-0.055556</td>\n",
       "      <td>0.227778</td>\n",
       "      <td>2022-07-04 01:10:45.324185</td>\n",
       "    </tr>\n",
       "    <tr>\n",
       "      <th>12313137</th>\n",
       "      <td>0.350000</td>\n",
       "      <td>0.650000</td>\n",
       "      <td>2022-07-04 01:10:45.312464</td>\n",
       "    </tr>\n",
       "  </tbody>\n",
       "</table>\n",
       "<p>12313138 rows × 3 columns</p>\n",
       "</div>"
      ],
      "text/plain": [
       "          polarity  subjectivity                extractedts\n",
       "0         0.166667      0.166667 2022-04-01 00:44:20.097867\n",
       "1         0.800000      0.900000 2022-04-01 00:09:37.148770\n",
       "2         0.069481      0.442316 2022-04-01 00:09:37.125654\n",
       "3        -0.065000      0.185000 2022-04-01 00:31:39.674382\n",
       "4         0.301894      0.355556 2022-04-01 00:09:37.101459\n",
       "...            ...           ...                        ...\n",
       "12313133  0.250000      0.250000 2022-07-04 00:59:54.684135\n",
       "12313134  0.383333      0.583333 2022-07-04 01:33:57.282529\n",
       "12313135 -0.083673      0.275510 2022-07-04 01:10:45.335862\n",
       "12313136 -0.055556      0.227778 2022-07-04 01:10:45.324185\n",
       "12313137  0.350000      0.650000 2022-07-04 01:10:45.312464\n",
       "\n",
       "[12313138 rows x 3 columns]"
      ]
     },
     "execution_count": 4,
     "metadata": {},
     "output_type": "execute_result"
    }
   ],
   "source": [
    "#extractedts to datetime\n",
    "df['extractedts'] = pd.to_datetime(df['extractedts'])\n",
    "df"
   ]
  },
  {
   "cell_type": "code",
   "execution_count": 5,
   "metadata": {},
   "outputs": [
    {
     "name": "stdout",
     "output_type": "stream",
     "text": [
      "First date:  2022-04-01 00:01:44.782367\n",
      "Last date:  2022-07-04 01:34:17.292538\n",
      "This covers a period of  94 days 01:32:32.510171\n"
     ]
    }
   ],
   "source": [
    "#print first and last date\n",
    "print(\"First date: \", df['extractedts'].min())\n",
    "print(\"Last date: \", df['extractedts'].max())\n",
    "print(\"This covers a period of \", df['extractedts'].max() - df['extractedts'].min())"
   ]
  },
  {
   "cell_type": "code",
   "execution_count": 6,
   "metadata": {},
   "outputs": [],
   "source": [
    "#save it\n",
    "filename = \"processed_data_without_neutral_values_01-04-22to04-07-22.parquet\"\n",
    "path_filename = directory + \"/\" + filename\n",
    "df.to_parquet(path_filename)"
   ]
  }
 ],
 "metadata": {
  "kernelspec": {
   "display_name": "Python 3",
   "language": "python",
   "name": "python3"
  },
  "language_info": {
   "codemirror_mode": {
    "name": "ipython",
    "version": 3
   },
   "file_extension": ".py",
   "mimetype": "text/x-python",
   "name": "python",
   "nbconvert_exporter": "python",
   "pygments_lexer": "ipython3",
   "version": "3.11.6"
  }
 },
 "nbformat": 4,
 "nbformat_minor": 2
}
