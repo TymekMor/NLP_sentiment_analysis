{
 "cells": [
  {
   "cell_type": "code",
   "execution_count": 1,
   "metadata": {
    "collapsed": true
   },
   "outputs": [],
   "source": [
    "import zipfile\n",
    "import os\n",
    "import gzip\n",
    "import shutil\n",
    "import pandas as pd\n",
    "import numpy as np\n",
    "import matplotlib.pyplot as plt"
   ]
  },
  {
   "cell_type": "code",
   "execution_count": 2,
   "outputs": [],
   "source": [
    "def un_zip():\n",
    "    # Path to the uploaded zip file\n",
    "    zip_file_path = r\"C:\\Users\\Tymek\\Desktop\\_Reddit_Twitter_Data_Analysis\\datasets\\0819_UkraineCombinedTweetsDeduped\" \\\n",
    "                    r\".csv.gzip.zip\"\n",
    "    zip_file_path = zip_file_path.replace('\\\\', '/')\n",
    "    # Unzipping the file\n",
    "    with zipfile.ZipFile(zip_file_path, 'r') as zip_ref:\n",
    "        zip_ref.extractall(\"./\")\n",
    "\n",
    "\n",
    "def check_file_header(file_path):\n",
    "    try:\n",
    "        with open(file_path, 'rb') as file:\n",
    "            header = file.read(4)\n",
    "            file.seek(0, 2)  # Move the cursor to the end of the file\n",
    "            size = file.tell()\n",
    "        print(\"Header:\", header)\n",
    "        print(\"Size:\", size, \"bytes\")\n",
    "    except FileNotFoundError:\n",
    "        print(\"File not found. Please check the file path.\")\n",
    "    except Exception as e:\n",
    "        print(\"An error occurred:\", e)\n",
    "\n",
    "\n",
    "def un_gzip_file(gzip_file_path, output_file_path):\n",
    "    # Decompress the gzip file\n",
    "    with gzip.open(gzip_file_path, 'rb') as f_in:\n",
    "        with open(output_file_path, 'wb') as f_out:\n",
    "            shutil.copyfileobj(f_in, f_out)\n",
    "\n",
    "\n",
    "def gzip_to_dataframe(gzip_file_path):\n",
    "    # Read the gzip file into a pandas dataframe\n",
    "    df = pd.read_csv(gzip_file_path, compression='gzip', header=0, sep=',', quotechar='\"')\n",
    "    return df"
   ],
   "metadata": {
    "collapsed": false
   }
  },
  {
   "cell_type": "code",
   "execution_count": 3,
   "outputs": [
    {
     "name": "stdout",
     "output_type": "stream",
     "text": [
      "15696\n"
     ]
    }
   ],
   "source": [
    "file_gzip = \"./datasets/0819_UkraineCombinedTweetsDeduped.csv.gzip\"\n",
    "\n",
    "df = gzip_to_dataframe(file_gzip)\n",
    "\n",
    "# filter out non-English tweets\n",
    "\n",
    "df = df[df[\"language\"] == \"en\"]\n",
    "\n",
    "\n",
    "# get number of rows\n",
    "df_clean = pd.DataFrame(columns=[\"location\", \"text\", \"extractedts\", \"hashtags\", \"tweetid\"])\n",
    "# leave location, text, date , hashtags an id\n",
    "df_clean = df[[\"location\", \"text\", \"extractedts\", \"hashtags\", \"tweetid\"]]\n",
    "\n",
    "#print(df_clean[\"text\"].sample(10), df_clean.shape[0])\n",
    "\n",
    "df_clean = df_clean.dropna()\n",
    "print(df_clean.shape[0])"
   ],
   "metadata": {
    "collapsed": false
   }
  },
  {
   "cell_type": "code",
   "execution_count": 4,
   "outputs": [],
   "source": [
    "df_clean[\"location\"] = df_clean[\"location\"].str.lower()\n",
    "\n",
    "# extractedts to datetime\n",
    "df_clean[\"extractedts\"] = pd.to_datetime(df_clean[\"extractedts\"])"
   ],
   "metadata": {
    "collapsed": false
   }
  },
  {
   "cell_type": "code",
   "execution_count": 5,
   "outputs": [
    {
     "name": "stdout",
     "output_type": "stream",
     "text": [
      "Oldest tweet 2022-08-20 01:35:11.291583 Newest tweet 2022-08-19 00:40:41.469861\n"
     ]
    }
   ],
   "source": [
    "# check newest and oldest date\n",
    "print(\"Oldest tweet\",df_clean[\"extractedts\"].max(),\"Newest tweet\", df_clean[\"extractedts\"].min())"
   ],
   "metadata": {
    "collapsed": false
   }
  },
  {
   "cell_type": "code",
   "execution_count": 6,
   "outputs": [
    {
     "data": {
      "text/plain": "<Axes: xlabel='extractedts,extractedts'>"
     },
     "execution_count": 6,
     "metadata": {},
     "output_type": "execute_result"
    },
    {
     "data": {
      "text/plain": "<Figure size 640x480 with 1 Axes>",
      "image/png": "[encoded data removed]"
     },
     "metadata": {},
     "output_type": "display_data"
    }
   ],
   "source": [
    "# plot number of tweets per hour\n",
    "df_clean[\"extractedts\"].groupby([df_clean[\"extractedts\"].dt.day,\n",
    "                                 df_clean[\"extractedts\"].dt.hour]).count().plot(kind=\"bar\")\n"
   ],
   "metadata": {
    "collapsed": false
   }
  },
  {
   "cell_type": "code",
   "execution_count": 7,
   "outputs": [
    {
     "data": {
      "text/plain": "0        [{'text': 'Pfizer', 'indices': [189, 196]}, {'...\n2        [{'text': 'Ukraine', 'indices': [189, 197]}, {...\n3        [{'text': 'Ukraine', 'indices': [194, 202]}, {...\n6        [{'text': 'Ukraine', 'indices': [68, 76]}, {'t...\n10       [{'text': 'putin', 'indices': [93, 99]}, {'tex...\n                               ...                        \n47985          [{'text': 'russia', 'indices': [126, 133]}]\n47986    [{'text': 'RussianUkrainianWar', 'indices': [5...\n47989    [{'text': 'RussiaIsATerroristState', 'indices'...\n47990                                                   []\n47993    [{'text': 'Biden', 'indices': [151, 157]}, {'t...\nName: hashtags, Length: 15696, dtype: object"
     },
     "execution_count": 7,
     "metadata": {},
     "output_type": "execute_result"
    }
   ],
   "source": [
    "df_clean[\"hashtags\"]"
   ],
   "metadata": {
    "collapsed": false
   }
  },
  {
   "cell_type": "code",
   "execution_count": 7,
   "outputs": [],
   "source": [],
   "metadata": {
    "collapsed": false
   }
  }
 ],
 "metadata": {
  "kernelspec": {
   "display_name": "Python 3",
   "language": "python",
   "name": "python3"
  },
  "language_info": {
   "codemirror_mode": {
    "name": "ipython",
    "version": 2
   },
   "file_extension": ".py",
   "mimetype": "text/x-python",
   "name": "python",
   "nbconvert_exporter": "python",
   "pygments_lexer": "ipython2",
   "version": "2.7.6"
  }
 },
 "nbformat": 4,
 "nbformat_minor": 0
}
