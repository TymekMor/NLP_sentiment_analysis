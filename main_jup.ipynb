{
 "cells": [
  {
   "cell_type": "markdown",
   "metadata": {},
   "source": [
    "# NLP SENTIMENT ANALYSIS ON UKRAINE WAR\n",
    "# Tymek\n",
    "This cell imports a variety of Python libraries and packages that are commonly used in data analysis, text processing, and visualization tasks:\n",
    "\n",
    "- zipfile, os, gzip, shutil: Used for file handling operations like reading, writing, and extracting compressed files.\n",
    "- pandas: Essential for data manipulation and analysis, particularly for working with structured data.\n",
    "- ast, numpy: For numerical operations. numpy is key for numerical computations, and ast helps in processing tree-like data structures.\n",
    "- seaborn, matplotlib.pyplot: Visualization libraries for creating graphs and plots.\n",
    "- json: For parsing JSON data.\n",
    "- textblob, nltk: Natural Language Processing (NLP) libraries. textblob simplifies text processing and sentiment analysis. nltk is used for more complex NLP tasks.\n",
    "- re: Regular expressions library for text pattern searching and manipulation.\n",
    "- The script also includes commands to download specific datasets and models (nltk.download()) used in NLP, indicating that text analysis tasks, possibly including sentiment analysis, are likely to be performed.\n",
    "\n",
    "\n",
    "\n",
    "\n",
    "\n"
   ]
  },
  {
   "cell_type": "code",
   "execution_count": 1,
   "metadata": {},
   "outputs": [
    {
     "name": "stderr",
     "output_type": "stream",
     "text": [
      "[nltk_data] Downloading package punkt to\n",
      "[nltk_data]     C:\\Users\\Tymek\\AppData\\Roaming\\nltk_data...\n",
      "[nltk_data]   Package punkt is already up-to-date!\n",
      "[nltk_data] Downloading package averaged_perceptron_tagger to\n",
      "[nltk_data]     C:\\Users\\Tymek\\AppData\\Roaming\\nltk_data...\n",
      "[nltk_data]   Package averaged_perceptron_tagger is already up-to-\n",
      "[nltk_data]       date!\n",
      "[nltk_data] Downloading package brown to\n",
      "[nltk_data]     C:\\Users\\Tymek\\AppData\\Roaming\\nltk_data...\n",
      "[nltk_data]   Package brown is already up-to-date!\n",
      "[nltk_data] Downloading package wordnet to\n",
      "[nltk_data]     C:\\Users\\Tymek\\AppData\\Roaming\\nltk_data...\n",
      "[nltk_data]   Package wordnet is already up-to-date!\n",
      "[nltk_data] Downloading package movie_reviews to\n",
      "[nltk_data]     C:\\Users\\Tymek\\AppData\\Roaming\\nltk_data...\n",
      "[nltk_data]   Package movie_reviews is already up-to-date!\n",
      "[nltk_data] Downloading package stopwords to\n",
      "[nltk_data]     C:\\Users\\Tymek\\AppData\\Roaming\\nltk_data...\n",
      "[nltk_data]   Package stopwords is already up-to-date!\n"
     ]
    },
    {
     "data": {
      "text/plain": [
       "True"
      ]
     },
     "execution_count": 1,
     "metadata": {},
     "output_type": "execute_result"
    }
   ],
   "source": [
    "import zipfile\n",
    "import os\n",
    "import gzip\n",
    "import shutil\n",
    "import pandas as pd\n",
    "import ast\n",
    "import numpy as np\n",
    "import seaborn as sns\n",
    "import json\n",
    "import matplotlib.pyplot as plt\n",
    "import textblob\n",
    "from textblob import TextBlob\n",
    "import nltk\n",
    "import re\n",
    "\n",
    "nltk.download('punkt')\n",
    "nltk.download('averaged_perceptron_tagger')\n",
    "nltk.download('brown')\n",
    "nltk.download('wordnet')\n",
    "nltk.download('movie_reviews')\n",
    "nltk.download('stopwords')"
   ]
  },
  {
   "cell_type": "markdown",
   "metadata": {},
   "source": [
    "## Defining helper functions"
   ]
  },
  {
   "cell_type": "code",
   "execution_count": 2,
   "metadata": {
    "collapsed": false,
    "jupyter": {
     "outputs_hidden": false
    }
   },
   "outputs": [],
   "source": [
    "def unzip_all_in_directory(directory):\n",
    "    unzipped_files = []\n",
    "    for item in os.listdir(directory):  # Loop through items in dir\n",
    "        if item.endswith('.zip'):  # Check for \".zip\" extension\n",
    "            file_path = os.path.join(directory, item)  # Get full path of the file\n",
    "            with zipfile.ZipFile(file_path, 'r') as zip_ref:  # Create ZipFile object\n",
    "                zip_ref.extractall(directory)  # Extract all the contents into the directory\n",
    "                unzipped_files.extend(zip_ref.namelist())\n",
    "            print(f'Unzipped: {item}')\n",
    "    return unzipped_files\n",
    "\n",
    "def gzip_to_dataframe(gzip_file_path):\n",
    "    # Read the gzip file into a pandas dataframe\n",
    "    df = pd.read_csv(gzip_file_path, compression='gzip', header=0, sep=',', quotechar='\"')\n",
    "    return df\n"
   ]
  },
  {
   "cell_type": "markdown",
   "metadata": {},
   "source": [
    "## Unzipping datasets in D:\\Twitter_dataset\n"
   ]
  },
  {
   "cell_type": "code",
   "execution_count": 3,
   "metadata": {},
   "outputs": [
    {
     "name": "stdout",
     "output_type": "stream",
     "text": [
      "Unzipped: 0819_UkraineCombinedTweetsDeduped.csv.gzip.zip\n",
      "Unzipped: 0820_UkraineCombinedTweetsDeduped.csv.gzip.zip\n",
      "Unzipped: 0821_UkraineCombinedTweetsDeduped.csv.gzip.zip\n",
      "Unzipped: 0822_UkraineCombinedTweetsDeduped.csv.gzip.zip\n",
      "Unzipped: 0823_UkraineCombinedTweetsDeduped.csv.gzip.zip\n"
     ]
    }
   ],
   "source": [
    "directory_to_dataset_list = r\"D:\\Twitter_dataset\"\n",
    "list_of_data_sets = unzip_all_in_directory(directory_to_dataset_list)"
   ]
  },
  {
   "cell_type": "markdown",
   "metadata": {},
   "source": [
    "## Creating pandas dataframe out of gziped datasets\n"
   ]
  },
  {
   "cell_type": "code",
   "execution_count": 4,
   "metadata": {},
   "outputs": [],
   "source": [
    "df = pd.DataFrame()\n",
    "for dataset in list_of_data_sets:\n",
    "    data_set_dir = directory_to_dataset_list + \"\\\\\" + dataset\n",
    "    df_to_add = gzip_to_dataframe(data_set_dir)\n",
    "    df = pd.concat([df,df_to_add])\n",
    "before_lang_clean = df.shape[0]    "
   ]
  },
  {
   "cell_type": "markdown",
   "metadata": {},
   "source": [
    "## Filtering out non-english tweets\n"
   ]
  },
  {
   "cell_type": "code",
   "execution_count": 5,
   "metadata": {
    "collapsed": false,
    "jupyter": {
     "outputs_hidden": false
    }
   },
   "outputs": [
    {
     "name": "stdout",
     "output_type": "stream",
     "text": [
      "Number of all records: 237298\n",
      "Number of english records: 109452 is: 46.12 %\n",
      "Number of non-english records: 127846 is: 53.88 %\n"
     ]
    }
   ],
   "source": [
    "df = df[df[\"language\"] == \"en\"]\n",
    "\n",
    "after_lang_clean = df.shape[0]\n",
    "# get number of rows\n",
    "df_clean = pd.DataFrame(columns=[\"location\", \"text\", \"extractedts\", \"hashtags\"])\n",
    "# leave location, text, date , hashtags an id\n",
    "df_clean = df[[\"location\", \"text\", \"extractedts\", \"hashtags\"]].copy()\n",
    "\n",
    "#print(df_clean[\"text\"].sample(10), df_clean.shape[0])\n",
    "print(\"Number of all records:\", before_lang_clean)\n",
    "percents = after_lang_clean/before_lang_clean * 100\n",
    "formatted_percents= \"{:.2f}\".format(percents)\n",
    "print(\"Number of english records:\", after_lang_clean, \"is:\", formatted_percents, \"%\")\n",
    "percents = (before_lang_clean - after_lang_clean)/before_lang_clean * 100\n",
    "formatted_percents= \"{:.2f}\".format(percents)\n",
    "print(\"Number of non-english records:\", before_lang_clean - after_lang_clean, \"is:\", formatted_percents, \"%\")\n"
   ]
  },
  {
   "cell_type": "code",
   "execution_count": 6,
   "metadata": {},
   "outputs": [
    {
     "data": {
      "text/plain": [
       "0        en\n",
       "2        en\n",
       "3        en\n",
       "5        en\n",
       "6        en\n",
       "         ..\n",
       "50245    en\n",
       "50246    en\n",
       "50247    en\n",
       "50249    en\n",
       "50250    en\n",
       "Name: language, Length: 109452, dtype: object"
      ]
     },
     "execution_count": 6,
     "metadata": {},
     "output_type": "execute_result"
    }
   ],
   "source": [
    "df[\"language\"]"
   ]
  },
  {
   "cell_type": "markdown",
   "metadata": {},
   "source": [
    "## Updating indexes\n"
   ]
  },
  {
   "cell_type": "code",
   "execution_count": 7,
   "metadata": {},
   "outputs": [
    {
     "data": {
      "text/html": [
       "<div>\n",
       "<style scoped>\n",
       "    .dataframe tbody tr th:only-of-type {\n",
       "        vertical-align: middle;\n",
       "    }\n",
       "\n",
       "    .dataframe tbody tr th {\n",
       "        vertical-align: top;\n",
       "    }\n",
       "\n",
       "    .dataframe thead th {\n",
       "        text-align: right;\n",
       "    }\n",
       "</style>\n",
       "<table border=\"1\" class=\"dataframe\">\n",
       "  <thead>\n",
       "    <tr style=\"text-align: right;\">\n",
       "      <th></th>\n",
       "      <th>location</th>\n",
       "      <th>text</th>\n",
       "      <th>extractedts</th>\n",
       "      <th>hashtags</th>\n",
       "    </tr>\n",
       "  </thead>\n",
       "  <tbody>\n",
       "    <tr>\n",
       "      <th>0</th>\n",
       "      <td>Afrika Borwa</td>\n",
       "      <td>Dear vaccine advocate\\n\\nDo take the COVID19 m...</td>\n",
       "      <td>2022-08-19 08:07:26.836769</td>\n",
       "      <td>[{'text': 'Pfizer', 'indices': [189, 196]}, {'...</td>\n",
       "    </tr>\n",
       "    <tr>\n",
       "      <th>1</th>\n",
       "      <td>Ukraine</td>\n",
       "      <td>Animal shelter Dogs and Cats, we need your hel...</td>\n",
       "      <td>2022-08-19 05:12:06.194216</td>\n",
       "      <td>[{'text': 'Ukraine', 'indices': [189, 197]}, {...</td>\n",
       "    </tr>\n",
       "    <tr>\n",
       "      <th>2</th>\n",
       "      <td>Ukraine</td>\n",
       "      <td>Welcome to our shelter!\\nLocated in Ukraine, K...</td>\n",
       "      <td>2022-08-19 11:22:26.824532</td>\n",
       "      <td>[{'text': 'Ukraine', 'indices': [194, 202]}, {...</td>\n",
       "    </tr>\n",
       "    <tr>\n",
       "      <th>3</th>\n",
       "      <td>NaN</td>\n",
       "      <td>👇 Good news you may have missed: First @WFP sh...</td>\n",
       "      <td>2022-08-19 05:12:06.096707</td>\n",
       "      <td>[{'text': 'humanitarian', 'indices': [66, 79]}...</td>\n",
       "    </tr>\n",
       "    <tr>\n",
       "      <th>4</th>\n",
       "      <td>NYC</td>\n",
       "      <td>Opinion: The Ukraine war is also being fought ...</td>\n",
       "      <td>2022-08-19 08:02:53.510769</td>\n",
       "      <td>[{'text': 'Ukraine', 'indices': [68, 76]}, {'t...</td>\n",
       "    </tr>\n",
       "    <tr>\n",
       "      <th>...</th>\n",
       "      <td>...</td>\n",
       "      <td>...</td>\n",
       "      <td>...</td>\n",
       "      <td>...</td>\n",
       "    </tr>\n",
       "    <tr>\n",
       "      <th>109447</th>\n",
       "      <td>Peoples Republic</td>\n",
       "      <td>@olehbatkovych Fight Fascism The Soviet Way......</td>\n",
       "      <td>2022-08-24 02:35:08.365405</td>\n",
       "      <td>[{'text': 'Ukraine', 'indices': [47, 55]}]</td>\n",
       "    </tr>\n",
       "    <tr>\n",
       "      <th>109448</th>\n",
       "      <td>STAR WARS</td>\n",
       "      <td>on three sides near #Kodema destroyed.\\n\\nSucc...</td>\n",
       "      <td>2022-08-24 02:00:23.155271</td>\n",
       "      <td>[{'text': 'Kodema', 'indices': [20, 27]}, {'te...</td>\n",
       "    </tr>\n",
       "    <tr>\n",
       "      <th>109449</th>\n",
       "      <td>Germany</td>\n",
       "      <td>@VictoriaYastrub this is #pedoputin s #RussiaI...</td>\n",
       "      <td>2022-08-24 03:00:39.715739</td>\n",
       "      <td>[{'text': 'pedoputin', 'indices': [25, 35]}, {...</td>\n",
       "    </tr>\n",
       "    <tr>\n",
       "      <th>109450</th>\n",
       "      <td>Toronto, Canada</td>\n",
       "      <td>Trudeau, Scholz to sign #hydrogendeal as Germa...</td>\n",
       "      <td>2022-08-24 02:35:08.342518</td>\n",
       "      <td>[{'text': 'hydrogendeal', 'indices': [24, 37]}...</td>\n",
       "    </tr>\n",
       "    <tr>\n",
       "      <th>109451</th>\n",
       "      <td>Florence</td>\n",
       "      <td>the war goes bad, the #Russians don't want to ...</td>\n",
       "      <td>2022-08-24 02:35:08.330498</td>\n",
       "      <td>[{'text': 'Russians', 'indices': [22, 31]}, {'...</td>\n",
       "    </tr>\n",
       "  </tbody>\n",
       "</table>\n",
       "<p>109452 rows × 4 columns</p>\n",
       "</div>"
      ],
      "text/plain": [
       "                location                                               text  \\\n",
       "0           Afrika Borwa  Dear vaccine advocate\\n\\nDo take the COVID19 m...   \n",
       "1                Ukraine  Animal shelter Dogs and Cats, we need your hel...   \n",
       "2                Ukraine  Welcome to our shelter!\\nLocated in Ukraine, K...   \n",
       "3                    NaN  👇 Good news you may have missed: First @WFP sh...   \n",
       "4                    NYC  Opinion: The Ukraine war is also being fought ...   \n",
       "...                  ...                                                ...   \n",
       "109447  Peoples Republic  @olehbatkovych Fight Fascism The Soviet Way......   \n",
       "109448        STAR WARS   on three sides near #Kodema destroyed.\\n\\nSucc...   \n",
       "109449           Germany  @VictoriaYastrub this is #pedoputin s #RussiaI...   \n",
       "109450   Toronto, Canada  Trudeau, Scholz to sign #hydrogendeal as Germa...   \n",
       "109451          Florence  the war goes bad, the #Russians don't want to ...   \n",
       "\n",
       "                       extractedts  \\\n",
       "0       2022-08-19 08:07:26.836769   \n",
       "1       2022-08-19 05:12:06.194216   \n",
       "2       2022-08-19 11:22:26.824532   \n",
       "3       2022-08-19 05:12:06.096707   \n",
       "4       2022-08-19 08:02:53.510769   \n",
       "...                            ...   \n",
       "109447  2022-08-24 02:35:08.365405   \n",
       "109448  2022-08-24 02:00:23.155271   \n",
       "109449  2022-08-24 03:00:39.715739   \n",
       "109450  2022-08-24 02:35:08.342518   \n",
       "109451  2022-08-24 02:35:08.330498   \n",
       "\n",
       "                                                 hashtags  \n",
       "0       [{'text': 'Pfizer', 'indices': [189, 196]}, {'...  \n",
       "1       [{'text': 'Ukraine', 'indices': [189, 197]}, {...  \n",
       "2       [{'text': 'Ukraine', 'indices': [194, 202]}, {...  \n",
       "3       [{'text': 'humanitarian', 'indices': [66, 79]}...  \n",
       "4       [{'text': 'Ukraine', 'indices': [68, 76]}, {'t...  \n",
       "...                                                   ...  \n",
       "109447         [{'text': 'Ukraine', 'indices': [47, 55]}]  \n",
       "109448  [{'text': 'Kodema', 'indices': [20, 27]}, {'te...  \n",
       "109449  [{'text': 'pedoputin', 'indices': [25, 35]}, {...  \n",
       "109450  [{'text': 'hydrogendeal', 'indices': [24, 37]}...  \n",
       "109451  [{'text': 'Russians', 'indices': [22, 31]}, {'...  \n",
       "\n",
       "[109452 rows x 4 columns]"
      ]
     },
     "execution_count": 7,
     "metadata": {},
     "output_type": "execute_result"
    }
   ],
   "source": [
    "df_clean.reset_index(drop=True, inplace=True) # updating indexes\n",
    "df_clean"
   ]
  },
  {
   "cell_type": "markdown",
   "metadata": {},
   "source": [
    "## Clearing data, setting location to lowercase and date of tweet to_datetime"
   ]
  },
  {
   "cell_type": "code",
   "execution_count": 8,
   "metadata": {
    "collapsed": false,
    "jupyter": {
     "outputs_hidden": false
    }
   },
   "outputs": [],
   "source": [
    "df_clean.loc[:, \"location\"] = df_clean[\"location\"].str.lower()\n",
    "\n",
    "df_clean.loc[:, \"extractedts\"] = pd.to_datetime(df_clean[\"extractedts\"])"
   ]
  },
  {
   "cell_type": "markdown",
   "metadata": {},
   "source": [
    "## Checking begin and end date of data set, along with duration\n"
   ]
  },
  {
   "cell_type": "code",
   "execution_count": 26,
   "metadata": {
    "collapsed": false,
    "jupyter": {
     "outputs_hidden": false
    }
   },
   "outputs": [
    {
     "name": "stdout",
     "output_type": "stream",
     "text": [
      "This dataset starts at: 2022-08-19 00:16:55.258603\n",
      "This dataset ends at:   2022-08-24 03:02:51.536261\n",
      "This dataset duration is: 5 days and: 2.77 hours\n"
     ]
    }
   ],
   "source": [
    "# check newest and oldest dated\n",
    "print(\"This dataset starts at:\", df_clean[\"extractedts\"].min())\n",
    "print(\"This dataset ends at:  \",df_clean[\"extractedts\"].max())\n",
    "duration = df_clean[\"extractedts\"].max() - df_clean[\"extractedts\"].min()\n",
    "hours = duration.seconds/3600\n",
    "formatted_hours = \"{:.2f}\".format(hours)\n",
    "print(\"This dataset duration is:\", duration.days, \"days and:\",formatted_hours , \"hours\" )\n"
   ]
  },
  {
   "cell_type": "markdown",
   "metadata": {},
   "source": [
    "## Adding day of week column, and hour. Because there might be strong correlation between these values and intenisty of tweeting\n",
    "\n"
   ]
  },
  {
   "cell_type": "code",
   "execution_count": 11,
   "metadata": {},
   "outputs": [],
   "source": [
    "df_clean.loc[:,\"day_of_week\"] = df_clean[\"extractedts\"].apply(lambda x : x.dayofweek)\n",
    "df_clean.loc[:,\"hour\"] = df_clean[\"extractedts\"].apply(lambda x : x.hour)"
   ]
  },
  {
   "cell_type": "markdown",
   "metadata": {},
   "source": [
    "## Checking amount of hours in dataset to set as bins\n"
   ]
  },
  {
   "cell_type": "code",
   "execution_count": 12,
   "metadata": {},
   "outputs": [],
   "source": [
    "unique_combinations = df_clean[['day_of_week', 'hour']].drop_duplicates().shape[0]"
   ]
  },
  {
   "cell_type": "code",
   "execution_count": 13,
   "metadata": {
    "collapsed": false,
    "editable": true,
    "jupyter": {
     "outputs_hidden": false
    },
    "slideshow": {
     "slide_type": ""
    },
    "tags": []
   },
   "outputs": [
    {
     "data": {
      "text/plain": [
       "Text(0, 0.5, 'Count of Tweets')"
      ]
     },
     "execution_count": 13,
     "metadata": {},
     "output_type": "execute_result"
    },
    {
     "data": {
      "image/png": "[encoded data removed]",
      "text/plain": [
       "<Figure size 1000x600 with 1 Axes>"
      ]
     },
     "metadata": {},
     "output_type": "display_data"
    }
   ],
   "source": [
    "# plot number of tweets per hour\n",
    "fig, axs = plt.subplots(figsize=(10, 6))\n",
    "sns.histplot(df_clean[\"extractedts\"],bins=unique_combinations, kde=True,ax=axs)\n",
    "plt.title(\"Count of Tweets per Hour\")\n",
    "plt.xlabel('Hour')\n",
    "plt.ylabel('Count of Tweets')"
   ]
  },
  {
   "cell_type": "markdown",
   "metadata": {},
   "source": [
    "## Amount of tweets per hour and per day of week\n"
   ]
  },
  {
   "cell_type": "code",
   "execution_count": 14,
   "metadata": {
    "editable": true,
    "slideshow": {
     "slide_type": ""
    },
    "tags": []
   },
   "outputs": [
    {
     "name": "stdout",
     "output_type": "stream",
     "text": [
      "hour\n",
      "0      7831\n",
      "1     10347\n",
      "2      8934\n",
      "3      1214\n",
      "4       824\n",
      "5       632\n",
      "6      1189\n",
      "7      2664\n",
      "8      3192\n",
      "9      4979\n",
      "10     3559\n",
      "11     4304\n",
      "12     5597\n",
      "13     4312\n",
      "14     5418\n",
      "15     5594\n",
      "16     5504\n",
      "17     5900\n",
      "18     6158\n",
      "19     5393\n",
      "20     4891\n",
      "21     4727\n",
      "22     3428\n",
      "23     2861\n",
      "dtype: int64\n"
     ]
    },
    {
     "data": {
      "text/plain": [
       "day_of_week\n",
       "0    21766\n",
       "1    23844\n",
       "2     5524\n",
       "4    17663\n",
       "5    19759\n",
       "6    20896\n",
       "dtype: int64"
      ]
     },
     "execution_count": 14,
     "metadata": {},
     "output_type": "execute_result"
    }
   ],
   "source": [
    "tweet_counts_per_hour = df_clean.groupby('hour').size()\n",
    "tweet_counts_per_day_of_week = df_clean.groupby('day_of_week').size()\n",
    "print(tweet_counts_per_hour)\n",
    "tweet_counts_per_day_of_week"
   ]
  },
  {
   "cell_type": "code",
   "execution_count": 15,
   "metadata": {},
   "outputs": [
    {
     "name": "stdout",
     "output_type": "stream",
     "text": [
      "Correlation (hour): -0.046567077090896004\n",
      "Correlation (day of week): -0.08322994794493212\n",
      "There is no significant correlation neither between hour or day of week and amount of tweets\n"
     ]
    }
   ],
   "source": [
    "correlation = tweet_counts_per_hour.corr(pd.Series(tweet_counts_per_hour.index))\n",
    "print(\"Correlation (hour):\", correlation)\n",
    "correlation = tweet_counts_per_day_of_week.corr(pd.Series(tweet_counts_per_day_of_week.index))\n",
    "print(\"Correlation (day of week):\", correlation)\n",
    "print(\"There is no significant correlation neither between hour or day of week and amount of tweets\")"
   ]
  },
  {
   "cell_type": "code",
   "execution_count": 16,
   "metadata": {
    "collapsed": false,
    "jupyter": {
     "outputs_hidden": false
    }
   },
   "outputs": [],
   "source": [
    "df_clean[\"hashtags\"] = df_clean[\"hashtags\"].apply(lambda x: ast.literal_eval(x.replace(\"'\", \"\\\"\"))) # hashtags strings to list of dictionaires"
   ]
  },
  {
   "cell_type": "code",
   "execution_count": 17,
   "metadata": {},
   "outputs": [],
   "source": [
    "def remove_hashtags_links_and_emojis(text):\n",
    "    # Regular expression to match hashtags and links\n",
    "    hashtag_pattern = r'#\\S+'\n",
    "    link_pattern = r'http\\S+|www.\\S+'\n",
    "    \n",
    "    # Unicode ranges for emojis\n",
    "    emoji_pattern = r'[' \\\n",
    "                    u'\\U0001F600-\\U0001F64F' \\\n",
    "                    u'\\U0001F300-\\U0001F5FF' \\\n",
    "                    u'\\U0001F680-\\U0001F6FF' \\\n",
    "                    u'\\U0001F1E0-\\U0001F1FF' \\\n",
    "                    u'\\U00002702-\\U000027B0' \\\n",
    "                    u'\\U000024C2-\\U0001F251' \\\n",
    "                    ']+'\n",
    "    \n",
    "    # Combine all patterns\n",
    "    combined_pattern = f'({hashtag_pattern})|({link_pattern})|({emoji_pattern})'\n",
    "    \n",
    "    # Replace hashtags, links, and emojis with an empty string\n",
    "    return re.sub(combined_pattern, '', text)"
   ]
  },
  {
   "cell_type": "code",
   "execution_count": 18,
   "metadata": {},
   "outputs": [],
   "source": [
    "df_clean.loc[:,\"text_clean\"] = df_clean[\"text\"].apply(lambda x: remove_hashtags_links_and_emojis(x)) # removing hashtags and links from texts"
   ]
  },
  {
   "cell_type": "code",
   "execution_count": 19,
   "metadata": {},
   "outputs": [],
   "source": [
    "df_clean.loc[:,\"polarity\"] = df_clean[\"text_clean\"].apply(lambda x: TextBlob(x).sentiment.polarity)\n",
    "df_clean.loc[:,\"subjectivity\"] = df_clean[\"text_clean\"].apply(lambda x: TextBlob(x).sentiment.subjectivity)"
   ]
  },
  {
   "cell_type": "code",
   "execution_count": 20,
   "metadata": {},
   "outputs": [
    {
     "data": {
      "text/plain": [
       "location         73700\n",
       "text            109452\n",
       "extractedts     109452\n",
       "hashtags        109452\n",
       "day_of_week     109452\n",
       "hour            109452\n",
       "text_clean      109452\n",
       "polarity        109452\n",
       "subjectivity    109452\n",
       "dtype: int64"
      ]
     },
     "execution_count": 20,
     "metadata": {},
     "output_type": "execute_result"
    }
   ],
   "source": [
    "df_clean.count()"
   ]
  },
  {
   "cell_type": "code",
   "execution_count": 39,
   "metadata": {},
   "outputs": [
    {
     "name": "stdout",
     "output_type": "stream",
     "text": [
      "Positive count: 41943\n",
      "Negative count: 24812\n",
      "Neutral count: 42697\n"
     ]
    },
    {
     "data": {
      "text/html": [
       "<div>\n",
       "<style scoped>\n",
       "    .dataframe tbody tr th:only-of-type {\n",
       "        vertical-align: middle;\n",
       "    }\n",
       "\n",
       "    .dataframe tbody tr th {\n",
       "        vertical-align: top;\n",
       "    }\n",
       "\n",
       "    .dataframe thead th {\n",
       "        text-align: right;\n",
       "    }\n",
       "</style>\n",
       "<table border=\"1\" class=\"dataframe\">\n",
       "  <thead>\n",
       "    <tr style=\"text-align: right;\">\n",
       "      <th></th>\n",
       "      <th>location</th>\n",
       "      <th>text</th>\n",
       "      <th>extractedts</th>\n",
       "      <th>hashtags</th>\n",
       "      <th>day_of_week</th>\n",
       "      <th>hour</th>\n",
       "      <th>text_clean</th>\n",
       "      <th>polarity</th>\n",
       "      <th>subjectivity</th>\n",
       "    </tr>\n",
       "  </thead>\n",
       "  <tbody>\n",
       "    <tr>\n",
       "      <th>0</th>\n",
       "      <td>afrika borwa</td>\n",
       "      <td>Dear vaccine advocate\\n\\nDo take the COVID19 m...</td>\n",
       "      <td>2022-08-19 08:07:26.836769</td>\n",
       "      <td>[{'text': 'Pfizer', 'indices': [189, 196]}, {'...</td>\n",
       "      <td>4</td>\n",
       "      <td>8</td>\n",
       "      <td>Dear vaccine advocate\\n\\nDo take the COVID19 m...</td>\n",
       "      <td>0.050000</td>\n",
       "      <td>0.050000</td>\n",
       "    </tr>\n",
       "    <tr>\n",
       "      <th>2</th>\n",
       "      <td>ukraine</td>\n",
       "      <td>Welcome to our shelter!\\nLocated in Ukraine, K...</td>\n",
       "      <td>2022-08-19 11:22:26.824532</td>\n",
       "      <td>[{'text': 'Ukraine', 'indices': [194, 202]}, {...</td>\n",
       "      <td>4</td>\n",
       "      <td>11</td>\n",
       "      <td>Welcome to our shelter!\\nLocated in Ukraine, K...</td>\n",
       "      <td>1.000000</td>\n",
       "      <td>0.900000</td>\n",
       "    </tr>\n",
       "    <tr>\n",
       "      <th>3</th>\n",
       "      <td>NaN</td>\n",
       "      <td>👇 Good news you may have missed: First @WFP sh...</td>\n",
       "      <td>2022-08-19 05:12:06.096707</td>\n",
       "      <td>[{'text': 'humanitarian', 'indices': [66, 79]}...</td>\n",
       "      <td>4</td>\n",
       "      <td>5</td>\n",
       "      <td>Good news you may have missed: First @WFP shi...</td>\n",
       "      <td>0.135714</td>\n",
       "      <td>0.419048</td>\n",
       "    </tr>\n",
       "    <tr>\n",
       "      <th>5</th>\n",
       "      <td>NaN</td>\n",
       "      <td>Ethereum's spot setup looks grim, but derivati...</td>\n",
       "      <td>2022-08-19 05:12:06.018650</td>\n",
       "      <td>[{'text': 'cryptocurrency', 'indices': [79, 94...</td>\n",
       "      <td>4</td>\n",
       "      <td>5</td>\n",
       "      <td>Ethereum's spot setup looks grim, but derivati...</td>\n",
       "      <td>-0.500000</td>\n",
       "      <td>0.800000</td>\n",
       "    </tr>\n",
       "    <tr>\n",
       "      <th>6</th>\n",
       "      <td>united states</td>\n",
       "      <td>🛢 Today's Crude Oil Prices:\\r📈 WTI: $90.63 (+0...</td>\n",
       "      <td>2022-08-19 08:04:59.090331</td>\n",
       "      <td>[{'text': 'putin', 'indices': [93, 99]}, {'tex...</td>\n",
       "      <td>4</td>\n",
       "      <td>8</td>\n",
       "      <td>Today's Crude Oil Prices:\\r WTI: $90.63 (+0.1...</td>\n",
       "      <td>-0.700000</td>\n",
       "      <td>1.000000</td>\n",
       "    </tr>\n",
       "    <tr>\n",
       "      <th>...</th>\n",
       "      <td>...</td>\n",
       "      <td>...</td>\n",
       "      <td>...</td>\n",
       "      <td>...</td>\n",
       "      <td>...</td>\n",
       "      <td>...</td>\n",
       "      <td>...</td>\n",
       "      <td>...</td>\n",
       "      <td>...</td>\n",
       "    </tr>\n",
       "    <tr>\n",
       "      <th>109441</th>\n",
       "      <td>NaN</td>\n",
       "      <td>A car is far more affordable &amp;amp; far more es...</td>\n",
       "      <td>2022-08-24 02:15:25.791994</td>\n",
       "      <td>[{'text': 'studentloan', 'indices': [80, 92]},...</td>\n",
       "      <td>2</td>\n",
       "      <td>2</td>\n",
       "      <td>A car is far more affordable &amp;amp; far more es...</td>\n",
       "      <td>0.283333</td>\n",
       "      <td>0.633333</td>\n",
       "    </tr>\n",
       "    <tr>\n",
       "      <th>109444</th>\n",
       "      <td>bothell, wa</td>\n",
       "      <td>@MarkHertling Thank you so much for your persp...</td>\n",
       "      <td>2022-08-24 02:22:04.808578</td>\n",
       "      <td>[{'text': 'SlavaUkraini', 'indices': [157, 170...</td>\n",
       "      <td>2</td>\n",
       "      <td>2</td>\n",
       "      <td>@MarkHertling Thank you so much for your persp...</td>\n",
       "      <td>0.446429</td>\n",
       "      <td>0.558929</td>\n",
       "    </tr>\n",
       "    <tr>\n",
       "      <th>109445</th>\n",
       "      <td>tokyo</td>\n",
       "      <td>🇺🇦 Science is organized knowledge. Wisdom is o...</td>\n",
       "      <td>2022-08-24 02:35:08.377054</td>\n",
       "      <td>[{'text': 'slavaukraini', 'indices': [173, 186...</td>\n",
       "      <td>2</td>\n",
       "      <td>2</td>\n",
       "      <td>Science is organized knowledge. Wisdom is org...</td>\n",
       "      <td>0.400000</td>\n",
       "      <td>0.500000</td>\n",
       "    </tr>\n",
       "    <tr>\n",
       "      <th>109448</th>\n",
       "      <td>star wars</td>\n",
       "      <td>on three sides near #Kodema destroyed.\\n\\nSucc...</td>\n",
       "      <td>2022-08-24 02:00:23.155271</td>\n",
       "      <td>[{'text': 'Kodema', 'indices': [20, 27]}, {'te...</td>\n",
       "      <td>2</td>\n",
       "      <td>2</td>\n",
       "      <td>on three sides near  destroyed.\\n\\nSuccessful ...</td>\n",
       "      <td>0.425000</td>\n",
       "      <td>0.675000</td>\n",
       "    </tr>\n",
       "    <tr>\n",
       "      <th>109451</th>\n",
       "      <td>florence</td>\n",
       "      <td>the war goes bad, the #Russians don't want to ...</td>\n",
       "      <td>2022-08-24 02:35:08.330498</td>\n",
       "      <td>[{'text': 'Russians', 'indices': [22, 31]}, {'...</td>\n",
       "      <td>2</td>\n",
       "      <td>2</td>\n",
       "      <td>the war goes bad, the  don't want to fight\\n\\n...</td>\n",
       "      <td>-0.700000</td>\n",
       "      <td>0.666667</td>\n",
       "    </tr>\n",
       "  </tbody>\n",
       "</table>\n",
       "<p>66755 rows × 9 columns</p>\n",
       "</div>"
      ],
      "text/plain": [
       "             location                                               text  \\\n",
       "0        afrika borwa  Dear vaccine advocate\\n\\nDo take the COVID19 m...   \n",
       "2             ukraine  Welcome to our shelter!\\nLocated in Ukraine, K...   \n",
       "3                 NaN  👇 Good news you may have missed: First @WFP sh...   \n",
       "5                 NaN  Ethereum's spot setup looks grim, but derivati...   \n",
       "6       united states  🛢 Today's Crude Oil Prices:\\r📈 WTI: $90.63 (+0...   \n",
       "...               ...                                                ...   \n",
       "109441            NaN  A car is far more affordable &amp; far more es...   \n",
       "109444    bothell, wa  @MarkHertling Thank you so much for your persp...   \n",
       "109445          tokyo  🇺🇦 Science is organized knowledge. Wisdom is o...   \n",
       "109448     star wars   on three sides near #Kodema destroyed.\\n\\nSucc...   \n",
       "109451       florence  the war goes bad, the #Russians don't want to ...   \n",
       "\n",
       "                       extractedts  \\\n",
       "0       2022-08-19 08:07:26.836769   \n",
       "2       2022-08-19 11:22:26.824532   \n",
       "3       2022-08-19 05:12:06.096707   \n",
       "5       2022-08-19 05:12:06.018650   \n",
       "6       2022-08-19 08:04:59.090331   \n",
       "...                            ...   \n",
       "109441  2022-08-24 02:15:25.791994   \n",
       "109444  2022-08-24 02:22:04.808578   \n",
       "109445  2022-08-24 02:35:08.377054   \n",
       "109448  2022-08-24 02:00:23.155271   \n",
       "109451  2022-08-24 02:35:08.330498   \n",
       "\n",
       "                                                 hashtags  day_of_week  hour  \\\n",
       "0       [{'text': 'Pfizer', 'indices': [189, 196]}, {'...            4     8   \n",
       "2       [{'text': 'Ukraine', 'indices': [194, 202]}, {...            4    11   \n",
       "3       [{'text': 'humanitarian', 'indices': [66, 79]}...            4     5   \n",
       "5       [{'text': 'cryptocurrency', 'indices': [79, 94...            4     5   \n",
       "6       [{'text': 'putin', 'indices': [93, 99]}, {'tex...            4     8   \n",
       "...                                                   ...          ...   ...   \n",
       "109441  [{'text': 'studentloan', 'indices': [80, 92]},...            2     2   \n",
       "109444  [{'text': 'SlavaUkraini', 'indices': [157, 170...            2     2   \n",
       "109445  [{'text': 'slavaukraini', 'indices': [173, 186...            2     2   \n",
       "109448  [{'text': 'Kodema', 'indices': [20, 27]}, {'te...            2     2   \n",
       "109451  [{'text': 'Russians', 'indices': [22, 31]}, {'...            2     2   \n",
       "\n",
       "                                               text_clean  polarity  \\\n",
       "0       Dear vaccine advocate\\n\\nDo take the COVID19 m...  0.050000   \n",
       "2       Welcome to our shelter!\\nLocated in Ukraine, K...  1.000000   \n",
       "3        Good news you may have missed: First @WFP shi...  0.135714   \n",
       "5       Ethereum's spot setup looks grim, but derivati... -0.500000   \n",
       "6        Today's Crude Oil Prices:\\r WTI: $90.63 (+0.1... -0.700000   \n",
       "...                                                   ...       ...   \n",
       "109441  A car is far more affordable &amp; far more es...  0.283333   \n",
       "109444  @MarkHertling Thank you so much for your persp...  0.446429   \n",
       "109445   Science is organized knowledge. Wisdom is org...  0.400000   \n",
       "109448  on three sides near  destroyed.\\n\\nSuccessful ...  0.425000   \n",
       "109451  the war goes bad, the  don't want to fight\\n\\n... -0.700000   \n",
       "\n",
       "        subjectivity  \n",
       "0           0.050000  \n",
       "2           0.900000  \n",
       "3           0.419048  \n",
       "5           0.800000  \n",
       "6           1.000000  \n",
       "...              ...  \n",
       "109441      0.633333  \n",
       "109444      0.558929  \n",
       "109445      0.500000  \n",
       "109448      0.675000  \n",
       "109451      0.666667  \n",
       "\n",
       "[66755 rows x 9 columns]"
      ]
     },
     "execution_count": 39,
     "metadata": {},
     "output_type": "execute_result"
    },
    {
     "data": {
      "image/png": "[encoded data removed]",
      "text/plain": [
       "<Figure size 1000x600 with 2 Axes>"
      ]
     },
     "metadata": {},
     "output_type": "display_data"
    }
   ],
   "source": [
    "fig,(ax1,ax2) = plt.subplots(2,1,figsize=(10,6))\n",
    "sr = df_clean[df_clean[\"polarity\"] != 0]\n",
    "sns.histplot(data = sr[\"polarity\"] ,ax=ax1,kde=True)\n",
    "sns.histplot(df_clean[\"subjectivity\"],ax=ax2,kde=True)\n",
    "print(\"Positive count:\",(df_clean[\"polarity\"] > 0).sum())\n",
    "print(\"Negative count:\",(df_clean[\"polarity\"] < 0).sum())\n",
    "print(\"Neutral count:\",(df_clean[\"polarity\"] == 0).sum())"
   ]
  },
  {
   "cell_type": "code",
   "execution_count": 22,
   "metadata": {},
   "outputs": [
    {
     "data": {
      "text/plain": [
       "<Axes: ylabel='Count'>"
      ]
     },
     "execution_count": 22,
     "metadata": {},
     "output_type": "execute_result"
    },
    {
     "data": {
      "image/png": "[encoded data removed]",
      "text/plain": [
       "<Figure size 1000x600 with 2 Axes>"
      ]
     },
     "metadata": {},
     "output_type": "display_data"
    }
   ],
   "source": [
    "df_col = pd.DataFrame({\"PS\":df_clean[\"polarity\"]*df_clean[\"subjectivity\"]})\n",
    "fig,(ax1,ax2) = plt.subplots(2,1,figsize=(10,6))\n",
    "sns.histplot(df_col.query(\"PS > 0\"),ax=ax1,kde=True)\n",
    "sns.histplot(df_col.query(\"PS < 0\"),ax=ax2,kde=True)"
   ]
  },
  {
   "cell_type": "code",
   "execution_count": 24,
   "metadata": {},
   "outputs": [
    {
     "data": {
      "text/html": [
       "<div>\n",
       "<style scoped>\n",
       "    .dataframe tbody tr th:only-of-type {\n",
       "        vertical-align: middle;\n",
       "    }\n",
       "\n",
       "    .dataframe tbody tr th {\n",
       "        vertical-align: top;\n",
       "    }\n",
       "\n",
       "    .dataframe thead th {\n",
       "        text-align: right;\n",
       "    }\n",
       "</style>\n",
       "<table border=\"1\" class=\"dataframe\">\n",
       "  <thead>\n",
       "    <tr style=\"text-align: right;\">\n",
       "      <th></th>\n",
       "      <th>location</th>\n",
       "      <th>text</th>\n",
       "      <th>extractedts</th>\n",
       "      <th>hashtags</th>\n",
       "      <th>day_of_week</th>\n",
       "      <th>hour</th>\n",
       "      <th>text_clean</th>\n",
       "      <th>polarity</th>\n",
       "      <th>subjectivity</th>\n",
       "    </tr>\n",
       "  </thead>\n",
       "  <tbody>\n",
       "    <tr>\n",
       "      <th>0</th>\n",
       "      <td>afrika borwa</td>\n",
       "      <td>Dear vaccine advocate\\n\\nDo take the COVID19 m...</td>\n",
       "      <td>2022-08-19 08:07:26.836769</td>\n",
       "      <td>[{'text': 'Pfizer', 'indices': [189, 196]}, {'...</td>\n",
       "      <td>4</td>\n",
       "      <td>8</td>\n",
       "      <td>Dear vaccine advocate\\n\\nDo take the COVID19 m...</td>\n",
       "      <td>0.050000</td>\n",
       "      <td>0.050000</td>\n",
       "    </tr>\n",
       "    <tr>\n",
       "      <th>1</th>\n",
       "      <td>ukraine</td>\n",
       "      <td>Animal shelter Dogs and Cats, we need your hel...</td>\n",
       "      <td>2022-08-19 05:12:06.194216</td>\n",
       "      <td>[{'text': 'Ukraine', 'indices': [189, 197]}, {...</td>\n",
       "      <td>4</td>\n",
       "      <td>5</td>\n",
       "      <td>Animal shelter Dogs and Cats, we need your hel...</td>\n",
       "      <td>0.000000</td>\n",
       "      <td>0.000000</td>\n",
       "    </tr>\n",
       "    <tr>\n",
       "      <th>2</th>\n",
       "      <td>ukraine</td>\n",
       "      <td>Welcome to our shelter!\\nLocated in Ukraine, K...</td>\n",
       "      <td>2022-08-19 11:22:26.824532</td>\n",
       "      <td>[{'text': 'Ukraine', 'indices': [194, 202]}, {...</td>\n",
       "      <td>4</td>\n",
       "      <td>11</td>\n",
       "      <td>Welcome to our shelter!\\nLocated in Ukraine, K...</td>\n",
       "      <td>1.000000</td>\n",
       "      <td>0.900000</td>\n",
       "    </tr>\n",
       "    <tr>\n",
       "      <th>3</th>\n",
       "      <td>NaN</td>\n",
       "      <td>👇 Good news you may have missed: First @WFP sh...</td>\n",
       "      <td>2022-08-19 05:12:06.096707</td>\n",
       "      <td>[{'text': 'humanitarian', 'indices': [66, 79]}...</td>\n",
       "      <td>4</td>\n",
       "      <td>5</td>\n",
       "      <td>Good news you may have missed: First @WFP shi...</td>\n",
       "      <td>0.135714</td>\n",
       "      <td>0.419048</td>\n",
       "    </tr>\n",
       "    <tr>\n",
       "      <th>4</th>\n",
       "      <td>nyc</td>\n",
       "      <td>Opinion: The Ukraine war is also being fought ...</td>\n",
       "      <td>2022-08-19 08:02:53.510769</td>\n",
       "      <td>[{'text': 'Ukraine', 'indices': [68, 76]}, {'t...</td>\n",
       "      <td>4</td>\n",
       "      <td>8</td>\n",
       "      <td>Opinion: The Ukraine war is also being fought ...</td>\n",
       "      <td>0.000000</td>\n",
       "      <td>0.000000</td>\n",
       "    </tr>\n",
       "    <tr>\n",
       "      <th>...</th>\n",
       "      <td>...</td>\n",
       "      <td>...</td>\n",
       "      <td>...</td>\n",
       "      <td>...</td>\n",
       "      <td>...</td>\n",
       "      <td>...</td>\n",
       "      <td>...</td>\n",
       "      <td>...</td>\n",
       "      <td>...</td>\n",
       "    </tr>\n",
       "    <tr>\n",
       "      <th>109447</th>\n",
       "      <td>peoples republic</td>\n",
       "      <td>@olehbatkovych Fight Fascism The Soviet Way......</td>\n",
       "      <td>2022-08-24 02:35:08.365405</td>\n",
       "      <td>[{'text': 'Ukraine', 'indices': [47, 55]}]</td>\n",
       "      <td>2</td>\n",
       "      <td>2</td>\n",
       "      <td>@olehbatkovych Fight Fascism The Soviet Way......</td>\n",
       "      <td>0.000000</td>\n",
       "      <td>0.000000</td>\n",
       "    </tr>\n",
       "    <tr>\n",
       "      <th>109448</th>\n",
       "      <td>star wars</td>\n",
       "      <td>on three sides near #Kodema destroyed.\\n\\nSucc...</td>\n",
       "      <td>2022-08-24 02:00:23.155271</td>\n",
       "      <td>[{'text': 'Kodema', 'indices': [20, 27]}, {'te...</td>\n",
       "      <td>2</td>\n",
       "      <td>2</td>\n",
       "      <td>on three sides near  destroyed.\\n\\nSuccessful ...</td>\n",
       "      <td>0.425000</td>\n",
       "      <td>0.675000</td>\n",
       "    </tr>\n",
       "    <tr>\n",
       "      <th>109449</th>\n",
       "      <td>germany</td>\n",
       "      <td>@VictoriaYastrub this is #pedoputin s #RussiaI...</td>\n",
       "      <td>2022-08-24 03:00:39.715739</td>\n",
       "      <td>[{'text': 'pedoputin', 'indices': [25, 35]}, {...</td>\n",
       "      <td>2</td>\n",
       "      <td>3</td>\n",
       "      <td>@VictoriaYastrub this is  s</td>\n",
       "      <td>0.000000</td>\n",
       "      <td>0.000000</td>\n",
       "    </tr>\n",
       "    <tr>\n",
       "      <th>109450</th>\n",
       "      <td>toronto, canada</td>\n",
       "      <td>Trudeau, Scholz to sign #hydrogendeal as Germa...</td>\n",
       "      <td>2022-08-24 02:35:08.342518</td>\n",
       "      <td>[{'text': 'hydrogendeal', 'indices': [24, 37]}...</td>\n",
       "      <td>2</td>\n",
       "      <td>2</td>\n",
       "      <td>Trudeau, Scholz to sign  as Germany eyes  futu...</td>\n",
       "      <td>0.000000</td>\n",
       "      <td>0.125000</td>\n",
       "    </tr>\n",
       "    <tr>\n",
       "      <th>109451</th>\n",
       "      <td>florence</td>\n",
       "      <td>the war goes bad, the #Russians don't want to ...</td>\n",
       "      <td>2022-08-24 02:35:08.330498</td>\n",
       "      <td>[{'text': 'Russians', 'indices': [22, 31]}, {'...</td>\n",
       "      <td>2</td>\n",
       "      <td>2</td>\n",
       "      <td>the war goes bad, the  don't want to fight\\n\\n...</td>\n",
       "      <td>-0.700000</td>\n",
       "      <td>0.666667</td>\n",
       "    </tr>\n",
       "  </tbody>\n",
       "</table>\n",
       "<p>109452 rows × 9 columns</p>\n",
       "</div>"
      ],
      "text/plain": [
       "                location                                               text  \\\n",
       "0           afrika borwa  Dear vaccine advocate\\n\\nDo take the COVID19 m...   \n",
       "1                ukraine  Animal shelter Dogs and Cats, we need your hel...   \n",
       "2                ukraine  Welcome to our shelter!\\nLocated in Ukraine, K...   \n",
       "3                    NaN  👇 Good news you may have missed: First @WFP sh...   \n",
       "4                    nyc  Opinion: The Ukraine war is also being fought ...   \n",
       "...                  ...                                                ...   \n",
       "109447  peoples republic  @olehbatkovych Fight Fascism The Soviet Way......   \n",
       "109448        star wars   on three sides near #Kodema destroyed.\\n\\nSucc...   \n",
       "109449           germany  @VictoriaYastrub this is #pedoputin s #RussiaI...   \n",
       "109450   toronto, canada  Trudeau, Scholz to sign #hydrogendeal as Germa...   \n",
       "109451          florence  the war goes bad, the #Russians don't want to ...   \n",
       "\n",
       "                       extractedts  \\\n",
       "0       2022-08-19 08:07:26.836769   \n",
       "1       2022-08-19 05:12:06.194216   \n",
       "2       2022-08-19 11:22:26.824532   \n",
       "3       2022-08-19 05:12:06.096707   \n",
       "4       2022-08-19 08:02:53.510769   \n",
       "...                            ...   \n",
       "109447  2022-08-24 02:35:08.365405   \n",
       "109448  2022-08-24 02:00:23.155271   \n",
       "109449  2022-08-24 03:00:39.715739   \n",
       "109450  2022-08-24 02:35:08.342518   \n",
       "109451  2022-08-24 02:35:08.330498   \n",
       "\n",
       "                                                 hashtags  day_of_week  hour  \\\n",
       "0       [{'text': 'Pfizer', 'indices': [189, 196]}, {'...            4     8   \n",
       "1       [{'text': 'Ukraine', 'indices': [189, 197]}, {...            4     5   \n",
       "2       [{'text': 'Ukraine', 'indices': [194, 202]}, {...            4    11   \n",
       "3       [{'text': 'humanitarian', 'indices': [66, 79]}...            4     5   \n",
       "4       [{'text': 'Ukraine', 'indices': [68, 76]}, {'t...            4     8   \n",
       "...                                                   ...          ...   ...   \n",
       "109447         [{'text': 'Ukraine', 'indices': [47, 55]}]            2     2   \n",
       "109448  [{'text': 'Kodema', 'indices': [20, 27]}, {'te...            2     2   \n",
       "109449  [{'text': 'pedoputin', 'indices': [25, 35]}, {...            2     3   \n",
       "109450  [{'text': 'hydrogendeal', 'indices': [24, 37]}...            2     2   \n",
       "109451  [{'text': 'Russians', 'indices': [22, 31]}, {'...            2     2   \n",
       "\n",
       "                                               text_clean  polarity  \\\n",
       "0       Dear vaccine advocate\\n\\nDo take the COVID19 m...  0.050000   \n",
       "1       Animal shelter Dogs and Cats, we need your hel...  0.000000   \n",
       "2       Welcome to our shelter!\\nLocated in Ukraine, K...  1.000000   \n",
       "3        Good news you may have missed: First @WFP shi...  0.135714   \n",
       "4       Opinion: The Ukraine war is also being fought ...  0.000000   \n",
       "...                                                   ...       ...   \n",
       "109447  @olehbatkovych Fight Fascism The Soviet Way......  0.000000   \n",
       "109448  on three sides near  destroyed.\\n\\nSuccessful ...  0.425000   \n",
       "109449                      @VictoriaYastrub this is  s    0.000000   \n",
       "109450  Trudeau, Scholz to sign  as Germany eyes  futu...  0.000000   \n",
       "109451  the war goes bad, the  don't want to fight\\n\\n... -0.700000   \n",
       "\n",
       "        subjectivity  \n",
       "0           0.050000  \n",
       "1           0.000000  \n",
       "2           0.900000  \n",
       "3           0.419048  \n",
       "4           0.000000  \n",
       "...              ...  \n",
       "109447      0.000000  \n",
       "109448      0.675000  \n",
       "109449      0.000000  \n",
       "109450      0.125000  \n",
       "109451      0.666667  \n",
       "\n",
       "[109452 rows x 9 columns]"
      ]
     },
     "execution_count": 24,
     "metadata": {},
     "output_type": "execute_result"
    }
   ],
   "source": [
    "df_clean"
   ]
  },
  {
   "cell_type": "code",
   "execution_count": null,
   "metadata": {},
   "outputs": [],
   "source": []
  }
 ],
 "metadata": {
  "kernelspec": {
   "display_name": "Python 3 (ipykernel)",
   "language": "python",
   "name": "python3"
  },
  "language_info": {
   "codemirror_mode": {
    "name": "ipython",
    "version": 3
   },
   "file_extension": ".py",
   "mimetype": "text/x-python",
   "name": "python",
   "nbconvert_exporter": "python",
   "pygments_lexer": "ipython3",
   "version": "3.12.0"
  }
 },
 "nbformat": 4,
 "nbformat_minor": 4
}
